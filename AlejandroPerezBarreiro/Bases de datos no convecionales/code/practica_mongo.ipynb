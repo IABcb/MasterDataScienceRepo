{
 "cells": [
  {
   "cell_type": "markdown",
   "metadata": {
    "collapsed": true
   },
   "source": [
    "## Bases de datos no convenciales\n",
    "\n"
   ]
  },
  {
   "cell_type": "markdown",
   "metadata": {},
   "source": [
    "## Contenidos\n",
    "* [Ejercicio 1. Listado de todas las publicaciones de un autor determinado](#ej1)\n",
    "* [Ejercicio 2. Número de publicaciones de un autor determinado](#ej2)\n",
    "* [Ejercicio 3. Número de artículos en revista para el año 2016](#ej3)\n",
    "* [Ejercicio 4. Número de autores ocasionales, es decir, que tengan menos de 5 publicaciones en total](#ej4)\n",
    "* [Ejercicio 5. Número de artículos de revista (article) y número de artículos en congresos (inproceedings) de los diez autores con más publicaciones totales](#ej5)\n",
    "* [Ejercicio 6. Número medio de autores de todas las publicaciones que tenga en su conjunto de datos](#ej6)\n",
    "* [Ejercicio 7. Listado de coautores de un autor (Se denomina coautor a cualquier persona que haya firmado una publicación)](#ej7)\n",
    "* [Ejercicio 8. Edad de los 5 autores con un periodo de publicaciones más largo (Se considera la Edad de un autor al número de años transcurridos desde la fecha de su primera publicación hasta la última registrada)](#ej8)\n",
    "* [Ejercicio 9. Número de autores novatos, es decir, que tengan una Edad menor de 5 años (Se considera la edad de un autor al número de años transcurridos desde la fecha de su primera publicación hasta la última registrada)](#ej9)\n",
    "* [Ejercicio 10. Porcentaje de publicaciones en revistas con respecto al total de publicaciones](#ej10)"
   ]
  },
  {
   "cell_type": "markdown",
   "metadata": {},
   "source": [
    "Importación de librerias e instaciación del cliente Mongo"
   ]
  },
  {
   "cell_type": "code",
   "execution_count": 2,
   "metadata": {
    "collapsed": false
   },
   "outputs": [],
   "source": [
    "from pymongo import MongoClient\n",
    "from pprint import pprint\n",
    "\n",
    "# Mongo ready on ECS instance, set the proper ip\n",
    "mongo_server_host = \"176.34.147.136\"\n",
    "\n",
    "client = MongoClient(\"mongodb://\" + mongo_server_host + \":27017\")\n",
    "db = client['bdnc']\n",
    "\n",
    "def printCursorContent(cursor,n=0):\n",
    "    cnt=1\n",
    "    for val in cursor:\n",
    "        if cnt==n:\n",
    "            return\n",
    "        else:\n",
    "            pprint(val)\n",
    "        cnt = cnt + 1"
   ]
  },
  {
   "cell_type": "code",
   "execution_count": 3,
   "metadata": {
    "collapsed": true
   },
   "outputs": [],
   "source": [
    "publicaciones =  db.dblp"
   ]
  },
  {
   "cell_type": "markdown",
   "metadata": {},
   "source": [
    "### Listado de todas las publicaciones de un autor determinado.  <a class=\"anchor\" id=\"ej1\"></a>"
   ]
  },
  {
   "cell_type": "code",
   "execution_count": 4,
   "metadata": {
    "collapsed": false
   },
   "outputs": [
    {
     "name": "stdout",
     "output_type": "stream",
     "text": [
      "Listado de publicaciones de E. F. Codd\n",
      "{u'title': u'Seven Steps to Rendezvous with the Casual User.'}\n",
      "{u'title': u'Interactive Support for Non-Programmers: The Relational and Network Approaches.'}\n",
      "{u'title': u'The Capabilities of Relational Database Management Systems.'}\n",
      "{u'title': u'Relational Completeness of Data Base Sublanguages.'}\n",
      "{u'title': u'Further Normalization of the Data Base Relational Model.'}\n",
      "{u'title': u'Data Base Sublanguage Founded on the Relational Calculus.'}\n",
      "{u'title': u'Derivability, Redundancy and Consistency of Relations Stored in Large Data Banks.'}\n",
      "{u'title': u'Normalized Data Base Structure: A Brief Tutorial.'}\n",
      "{u'title': u'Fatal Flaws in SQL - Part Two.'}\n",
      "{u'title': u'Fatal Flaws in SQL - Part ONE.'}\n",
      "{u'title': u'Extending the Database Relational Model to Capture More Meaning.'}\n",
      "{u'title': u\"'Universal' Relation Fails to Replace Relational Model (letter to the editor).\"}\n",
      "{u'title': u'Multiprogramming.'}\n",
      "{u'title': u'Understanding Relations (Third Installment).'}\n",
      "{u'title': u'Derivability, redundancy and consistency of relations stored in large data banks.'}\n",
      "{u'title': u'More Commentary on Missing Information in Relational Databases (Applicable and Inapplicable Information).'}\n",
      "{u'title': u'Understanding Relations (Installment #5).'}\n",
      "{u'title': u'Understanding Relations.'}\n",
      "{u'title': u'Understanding Relations (Installment #6).'}\n",
      "{u'title': u'Understanding Relations.'}\n",
      "{u'title': u'Impressions of the 1970 ACM-SIGFIDET Workshop.'}\n",
      "{u'title': u'Understanding Relations (Installment #4).'}\n",
      "{u'title': u'Understanding Relations (Installment #7).'}\n",
      "{u'title': u'Implementation of Relational Data Base Management Systems (NCC 1975 Panel).'}\n",
      "{u'title': u'Missing Information (Applicable and Inapplicable) in Relational Databases.'}\n",
      "{u'title': u'Response to \"Why Codd\\'s Rule No. 6 Must be Reformulated\".'}\n",
      "{u'title': u'Relational Database: A Practical Foundation for Productivity.'}\n",
      "{u'title': u'Multiprogram Scheduling Parts 3 and 4: Scheduling Algorithm and External Constraints.'}\n",
      "{u'title': u'Multiprogram Scheduling Parts 1 and 2: Introduction and Theory.'}\n",
      "{u'title': u'A Relational Model of Data for Large Shared Data Banks (Reprint).'}\n",
      "{u'title': u'Multiprogramming STRETCH: Feasibility Considerations.'}\n",
      "{u'title': u'A Relational Model of Data for Large Shared Data Banks.'}\n",
      "{u'title': u'The Significance of the SQL/Data System Announcement.'}\n",
      "{u'title': u'Recent Investigations in Relational Data Base Systems.'}\n"
     ]
    }
   ],
   "source": [
    "author=\"E. F. Codd\"\n",
    "print(\"Listado de publicaciones de {0}\".format(author))\n",
    "c = publicaciones.find({\"Authors\":author}, {\"item\": 1, \"status\": 1, \"title\": 1, '_id': 0})\n",
    "printCursorContent(c)"
   ]
  },
  {
   "cell_type": "markdown",
   "metadata": {},
   "source": [
    "### Número de publicaciones de un autor determinado<a class=\"anchor\" id=\"ej2\"></a>"
   ]
  },
  {
   "cell_type": "code",
   "execution_count": 5,
   "metadata": {
    "collapsed": false,
    "scrolled": true
   },
   "outputs": [
    {
     "name": "stdout",
     "output_type": "stream",
     "text": [
      "Número de publicaciones de E. F. Codd\n",
      "{u'_id': u'null', u'count': 34}\n"
     ]
    }
   ],
   "source": [
    "author=\"E. F. Codd\"\n",
    "print(\"Número de publicaciones de {0}\".format(author))\n",
    "c = publicaciones.aggregate([{\"$match\":{\"Authors\":author}},\\\n",
    "                             {\"$group\":{\"_id\":\"null\", \"count\":{\"$sum\":1}}}])\n",
    "printCursorContent(c)"
   ]
  },
  {
   "cell_type": "markdown",
   "metadata": {},
   "source": [
    "### Número de artículos en revista para el año 2016<a class=\"anchor\" id=\"ej3\"></a>"
   ]
  },
  {
   "cell_type": "code",
   "execution_count": 6,
   "metadata": {
    "collapsed": false
   },
   "outputs": [
    {
     "name": "stdout",
     "output_type": "stream",
     "text": [
      "Número de article en el año 2016\n",
      "{u'_id': {u'year': 2016}, u'count': 127165}\n"
     ]
    }
   ],
   "source": [
    "pubtype = 'article'\n",
    "year = 2016\n",
    "print(\"Número de {0} en el año {1}\".format(pubtype, year))\n",
    "c = publicaciones.aggregate([{\"$match\":{\"year\": year, \"type\": pubtype}}, \\\n",
    "                             {\"$group\":{\"_id\":{'year': '$year', 'type': '$pubtype'}, \"count\":{\"$sum\":1}}}])\n",
    "printCursorContent(c)"
   ]
  },
  {
   "cell_type": "markdown",
   "metadata": {},
   "source": [
    "### Número de autores ocasionales, es decir, que tengan menos de 5 publicaciones en total<a class=\"anchor\" id=\"ej4\"></a>"
   ]
  },
  {
   "cell_type": "code",
   "execution_count": 7,
   "metadata": {
    "collapsed": false
   },
   "outputs": [
    {
     "name": "stdout",
     "output_type": "stream",
     "text": [
      "Número de autores ocasionales\n",
      "{u'Autores Ocasionales': 1103389}\n"
     ]
    }
   ],
   "source": [
    "print(\"Número de autores ocasionales\")\n",
    "c = publicaciones.aggregate([{'$unwind': \"$Authors\" }, \\\n",
    "                             {'$sortByCount': \"$Authors\"}, \\\n",
    "                             {'$match': {'count':{'$lt':5} } }, \\\n",
    "                             {'$count': \"Autores Ocasionales\"} ], \\\n",
    "                            allowDiskUse=True)\n",
    "printCursorContent(c)"
   ]
  },
  {
   "cell_type": "markdown",
   "metadata": {},
   "source": [
    "### Número de artículos de revista (article) y número de artículos en congresos (inproceedings) de los diez autores con más publicaciones totales<a class=\"anchor\" id=\"ej5\"></a>"
   ]
  },
  {
   "cell_type": "code",
   "execution_count": 10,
   "metadata": {
    "collapsed": false
   },
   "outputs": [
    {
     "name": "stdout",
     "output_type": "stream",
     "text": [
      "Número de articulos de revista y congresos de los de autores con más publicaciones totales\n",
      "{u'_id': {u'Authors': u'Chin-Chen Chang', u'type': u'inproceedings'},\n",
      " u'count': 21}\n",
      "{u'_id': {u'Authors': u'Chin-Chen Chang', u'type': u'article'}, u'count': 584}\n",
      "{u'_id': {u'Authors': u'H. Vincent Poor', u'type': u'article'}, u'count': 915}\n",
      "{u'_id': {u'Authors': u'H. Vincent Poor', u'type': u'inproceedings'},\n",
      " u'count': 57}\n",
      "{u'_id': {u'Authors': u'Jing Li', u'type': u'article'}, u'count': 406}\n",
      "{u'_id': {u'Authors': u'Jing Li', u'type': u'inproceedings'}, u'count': 131}\n",
      "{u'_id': {u'Authors': u'Jun Liu', u'type': u'article'}, u'count': 440}\n",
      "{u'_id': {u'Authors': u'Jun Liu', u'type': u'inproceedings'}, u'count': 83}\n",
      "{u'_id': {u'Authors': u'Lajos Hanzo', u'type': u'article'}, u'count': 558}\n",
      "{u'_id': {u'Authors': u'Lajos Hanzo', u'type': u'inproceedings'}, u'count': 63}\n",
      "{u'_id': {u'Authors': u'Mohamed-Slim Alouini', u'type': u'inproceedings'},\n",
      " u'count': 57}\n",
      "{u'_id': {u'Authors': u'Mohamed-Slim Alouini', u'type': u'article'},\n",
      " u'count': 520}\n",
      "{u'_id': {u'Authors': u'Wei Zhang', u'type': u'article'}, u'count': 463}\n",
      "{u'_id': {u'Authors': u'Wei Zhang', u'type': u'inproceedings'}, u'count': 130}\n",
      "{u'_id': {u'Authors': u'Witold Pedrycz', u'type': u'article'}, u'count': 602}\n",
      "{u'_id': {u'Authors': u'Witold Pedrycz', u'type': u'inproceedings'},\n",
      " u'count': 40}\n",
      "{u'_id': {u'Authors': u'Xiaodong Wang', u'type': u'inproceedings'},\n",
      " u'count': 61}\n",
      "{u'_id': {u'Authors': u'Xiaodong Wang', u'type': u'article'}, u'count': 482}\n",
      "{u'_id': {u'Authors': u'Yang Liu', u'type': u'article'}, u'count': 395}\n",
      "{u'_id': {u'Authors': u'Yang Liu', u'type': u'inproceedings'}, u'count': 119}\n"
     ]
    }
   ],
   "source": [
    "print(\"Número de articulos de revista y congresos de \\\n",
    "los de autores con más publicaciones totales\")\n",
    "c = publicaciones.aggregate([{'$match': { '$or': [ {'type':\"inproceedings\"}, \\\n",
    "                                              {'type':\"article\"} ] } }, \\\n",
    "                             {'$unwind': \"$Authors\" }, \\\n",
    "                             {'$group': {'_id':{ 'Authors': \"$Authors\"}, \\\n",
    "                                        'publicaciones': {'$sum':1}, \\\n",
    "                                        \"type\": {\"$push\":\"$type\"} }}, \\\n",
    "                             {'$sort': {\"publicaciones\":-1}}, \\\n",
    "                             {'$limit':10}, \\\n",
    "                             {'$unwind': \"$type\" }, \\\n",
    "                             {'$group': {'_id': {'type': \"$type\", \\\n",
    "                                             'Authors': \"$_id.Authors\"}, \\\n",
    "                                         \n",
    "                                        'count': {'$sum':1} } }, \\\n",
    "                             {'$sort': {\"_id.Authors\":1}}], allowDiskUse=True)\n",
    "printCursorContent(c)"
   ]
  },
  {
   "cell_type": "markdown",
   "metadata": {},
   "source": [
    "### Número medio de autores de todas las publicaciones que tenga en su conjunto de datos<a class=\"anchor\" id=\"ej6\"></a>"
   ]
  },
  {
   "cell_type": "code",
   "execution_count": 11,
   "metadata": {
    "collapsed": false
   },
   "outputs": [
    {
     "name": "stdout",
     "output_type": "stream",
     "text": [
      "Número medio de autores\n",
      "{u'_id': u'null', u'media': 2.799367417887333}\n"
     ]
    }
   ],
   "source": [
    "print(\"Número medio de autores\")\n",
    "c = publicaciones.aggregate([{'$unwind': \"$Authors\" }, \\\n",
    "                             {'$group': {'_id': '$_id', 'count':{'$sum':1}}},\n",
    "                             {'$group': {'_id':'null', 'media':{'$avg':'$count'}}}], \\\n",
    "                            allowDiskUse=True)\n",
    "printCursorContent(c)"
   ]
  },
  {
   "cell_type": "markdown",
   "metadata": {},
   "source": [
    "### Listado de coautores de un autor (Se denomina coautor a cualquier persona que haya firmado una publicación)<a class=\"anchor\" id=\"ej7\"></a>"
   ]
  },
  {
   "cell_type": "code",
   "execution_count": 12,
   "metadata": {
    "collapsed": false
   },
   "outputs": [
    {
     "name": "stdout",
     "output_type": "stream",
     "text": [
      "Listado de coatuores de E. F. Codd\n",
      "{u'_id': u'Casper A. Scalzi'}\n",
      "{u'_id': u'C. J. Date'}\n",
      "{u'_id': u'E. S. Lowry'}\n",
      "{u'_id': u'E. McDonough'}\n"
     ]
    }
   ],
   "source": [
    "\n",
    "author=\"E. F. Codd\"\n",
    "print(\"Listado de coatuores de {0}\".format(author))\n",
    "c = publicaciones.aggregate([{\"$match\":{\"Authors\":author}},\\\n",
    "                             {\"$unwind\": '$Authors'}, \\\n",
    "                             {'$group': {'_id': '$Authors', 'count':{'$sum':1}}}, \\\n",
    "                             {'$match':{'_id':{'$ne':author}}}, \n",
    "                             {'$project': {'_id':1}}], \\\n",
    "                           allowDiskUse=True)\n",
    "printCursorContent(c)"
   ]
  },
  {
   "cell_type": "markdown",
   "metadata": {},
   "source": [
    "### Edad de los 5 autores con un periodo de publicaciones más largo (Se considera la Edad de un autor al número de años transcurridos desde la fecha de su primera publicación hasta la última registrada)<a class=\"anchor\" id=\"ej8\"></a>"
   ]
  },
  {
   "cell_type": "code",
   "execution_count": 13,
   "metadata": {
    "collapsed": false
   },
   "outputs": [
    {
     "name": "stdout",
     "output_type": "stream",
     "text": [
      "Autores con periodo de publicaciones más largo\n",
      "{u'_id': u'Alan M. Turing', u'edad': 75}\n",
      "{u'_id': u'Rudolf Carnap', u'edad': 71}\n",
      "{u'_id': u'David Nelson', u'edad': 64}\n",
      "{u'_id': u'Eric Weiss', u'edad': 64}\n",
      "{u'_id': u'George E. Collins', u'edad': 63}\n"
     ]
    }
   ],
   "source": [
    "print(\"Autores con periodo de publicaciones más largo\")\n",
    "c = publicaciones.aggregate([{'$unwind': \"$Authors\" } , \\\n",
    "                             {'$group': {'_id': '$Authors', \\\n",
    "                                        'anyos': {'$push': '$year'}}}, \\\n",
    "                             {'$project': {'maximo': {'$max': \"$anyos\"}, \\\n",
    "                                        'minimo':{ '$min': \"$anyos\"}}}, \\\n",
    "                             {'$project': {'edad': {'$subtract': [\"$maximo\", \\\n",
    "                                                            \"$minimo\"]}}}, \\\n",
    "                             {'$sort': {'edad':-1}}, \\\n",
    "                             {'$limit': 5}], \\\n",
    "                            allowDiskUse=True)\n",
    "                            \n",
    "printCursorContent(c)"
   ]
  },
  {
   "cell_type": "markdown",
   "metadata": {},
   "source": [
    "### Número de autores novatos, es decir, que tengan una Edad menor de 5 años (Se considera la edad de un autor al número de años transcurridos desde la fecha de su primera publicación hasta la última registrada)<a class=\"anchor\" id=\"ej9\"></a>"
   ]
  },
  {
   "cell_type": "code",
   "execution_count": 14,
   "metadata": {
    "collapsed": false
   },
   "outputs": [
    {
     "name": "stdout",
     "output_type": "stream",
     "text": [
      "Numero de autores novatos\n",
      "{u'AutoresNovatos': 1021673}\n"
     ]
    }
   ],
   "source": [
    "print(\"Numero de autores novatos\")\n",
    "c = publicaciones.aggregate([{'$unwind': \"$Authors\" } , \\\n",
    "                             {'$group' : { '_id': '$Authors', \\\n",
    "                                          'anyos': { '$push': \"$year\"} }}, \\\n",
    "                             {'$project':{ 'maximo': {'$max': \"$anyos\"}, \\\n",
    "                                          'minimo':{ '$min': \"$anyos\"} }}, \\\n",
    "                             {'$project': {'edad': {'$subtract': [\"$maximo\", \"$minimo\"] } } }, \\\n",
    "                             {'$match': {'edad': {'$lt':5}}}, \\\n",
    "                             {'$count': \"AutoresNovatos\"} ], \\\n",
    "                             allowDiskUse=True)\n",
    "printCursorContent(c)"
   ]
  },
  {
   "cell_type": "markdown",
   "metadata": {},
   "source": [
    "### Porcentaje de publicaciones en revistas con respecto al total de publicaciones<a class=\"anchor\" id=\"ej10\"></a>"
   ]
  },
  {
   "cell_type": "code",
   "execution_count": 15,
   "metadata": {
    "collapsed": false
   },
   "outputs": [
    {
     "name": "stdout",
     "output_type": "stream",
     "text": [
      "Porcentaje de publicaciones en revista\n",
      "{u'Porcentaje': 79.71885}\n"
     ]
    }
   ],
   "source": [
    "print(\"Porcentaje de publicaciones en revista\")\n",
    "c = publicaciones.aggregate([{'$match': { 'type': \"article\"} }, \\\n",
    "                   {'$group': {'_id':'$type', 'count':{'$sum':1}}}, \\\n",
    "                   {'$project':{'_id':0, \\\n",
    "                              'Porcentaje':{ '$multiply': [{'$divide': [100, \\\n",
    "                                                                        publicaciones.count()]}, \\\n",
    "                                                             \"$count\"]}}}],\n",
    "                           allowDiskUse = True)\n",
    "printCursorContent(c)"
   ]
  },
  {
   "cell_type": "code",
   "execution_count": null,
   "metadata": {
    "collapsed": true
   },
   "outputs": [],
   "source": []
  }
 ],
 "metadata": {
  "anaconda-cloud": {},
  "kernelspec": {
   "display_name": "Python [Python27]",
   "language": "python",
   "name": "Python [Python27]"
  },
  "language_info": {
   "codemirror_mode": {
    "name": "ipython",
    "version": 2
   },
   "file_extension": ".py",
   "mimetype": "text/x-python",
   "name": "python",
   "nbconvert_exporter": "python",
   "pygments_lexer": "ipython2",
   "version": "2.7.13"
  }
 },
 "nbformat": 4,
 "nbformat_minor": 1
}
