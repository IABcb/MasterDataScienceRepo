{
 "cells": [
  {
   "cell_type": "markdown",
   "metadata": {},
   "source": [
    "# Práctica Spark SQL"
   ]
  },
  {
   "cell_type": "code",
   "execution_count": 1,
   "metadata": {
    "collapsed": false
   },
   "outputs": [
    {
     "name": "stdout",
     "output_type": "stream",
     "text": [
      "<pyspark.sql.session.SparkSession object at 0x7f9bd1b18be0>\n",
      "<pyspark.context.SparkContext object at 0x7f9bf8d632b0>\n"
     ]
    }
   ],
   "source": [
    "import findspark\n",
    "findspark.init(\"/home/usuario/Escritorio/spark-2.0.2\")\n",
    "\n",
    "import pyspark\n",
    "from pyspark.sql import SparkSession\n",
    "spark = (SparkSession.builder\n",
    "    .master(\"local[*]\")\n",
    "    .config(\"spark.driver.cores\", 1)\n",
    "    .appName(\"understanding_sparksession\")\n",
    "    .getOrCreate() )\n",
    "sc = spark.sparkContext\n",
    "print(spark)\n",
    "print(sc)"
   ]
  },
  {
   "cell_type": "markdown",
   "metadata": {},
   "source": [
    "## Lectura de eventos"
   ]
  },
  {
   "cell_type": "markdown",
   "metadata": {},
   "source": [
    "En primer lugar, definimos los tipos de datos específicos para cada campo con un esquema personalizado."
   ]
  },
  {
   "cell_type": "code",
   "execution_count": 2,
   "metadata": {
    "collapsed": false
   },
   "outputs": [],
   "source": [
    "from pyspark.sql.types import *\n",
    "from pyspark.sql.functions import *\n",
    "customSchema = StructType([StructField(\"Id\", LongType(), True),\n",
    "                           StructField(\"Parent_sys_id\", StringType(), True),\n",
    "                           StructField(\"Source\", StringType(), True),\n",
    "                           StructField(\"Mentions\", StringType(), True),\n",
    "                           StructField(\"Target\", StringType(), True),\n",
    "                           StructField(\"Name_source\", StringType(), True),\n",
    "                           StructField(\"Body\", StringType(), True),\n",
    "                           StructField(\"Pub_date\", TimestampType(), True),\n",
    "                           StructField(\"URLs\", StringType(), True),\n",
    "                           StructField(\"Tipe_action\", StringType(), True),\n",
    "                           StructField(\"Link\", StringType(), True),\n",
    "                           StructField(\"Has_link\", ByteType(), True),\n",
    "                           StructField(\"Has_picture\", ByteType(), True),\n",
    "                           StructField(\"Website\", StringType(), True),\n",
    "                           StructField(\"Country\", StringType(), True),\n",
    "                           StructField(\"Activity\", LongType(), True),\n",
    "                           StructField(\"Followers\", LongType(), True),\n",
    "                           StructField(\"Following\", LongType(), True),\n",
    "                           StructField(\"Location\", StringType(), True)\n",
    "                          ])"
   ]
  },
  {
   "cell_type": "code",
   "execution_count": 3,
   "metadata": {
    "collapsed": false
   },
   "outputs": [],
   "source": [
    "events = spark.read.csv(\"data/DATASETMotoGP-Qatar.csv\",\n",
    "                        header=True, schema=customSchema, timestampFormat=\"dd/MM/yyyy HH:mm\")\n",
    "                        #mode=\"FAILFAST\") #"
   ]
  },
  {
   "cell_type": "code",
   "execution_count": 4,
   "metadata": {
    "collapsed": false
   },
   "outputs": [
    {
     "name": "stdout",
     "output_type": "stream",
     "text": [
      "root\n",
      " |-- Id: long (nullable = true)\n",
      " |-- Parent_sys_id: string (nullable = true)\n",
      " |-- Source: string (nullable = true)\n",
      " |-- Mentions: string (nullable = true)\n",
      " |-- Target: string (nullable = true)\n",
      " |-- Name_source: string (nullable = true)\n",
      " |-- Body: string (nullable = true)\n",
      " |-- Pub_date: timestamp (nullable = true)\n",
      " |-- URLs: string (nullable = true)\n",
      " |-- Tipe_action: string (nullable = true)\n",
      " |-- Link: string (nullable = true)\n",
      " |-- Has_link: byte (nullable = true)\n",
      " |-- Has_picture: byte (nullable = true)\n",
      " |-- Website: string (nullable = true)\n",
      " |-- Country: string (nullable = true)\n",
      " |-- Activity: long (nullable = true)\n",
      " |-- Followers: long (nullable = true)\n",
      " |-- Following: long (nullable = true)\n",
      " |-- Location: string (nullable = true)\n",
      "\n"
     ]
    }
   ],
   "source": [
    "events.printSchema()"
   ]
  },
  {
   "cell_type": "markdown",
   "metadata": {
    "collapsed": true
   },
   "source": [
    "## A) Contabilizar el número total de menciones a los pilotos Marc Márquez, Valentino Rossi y Dani Pedrosa."
   ]
  },
  {
   "cell_type": "code",
   "execution_count": 5,
   "metadata": {
    "collapsed": false
   },
   "outputs": [
    {
     "data": {
      "text/plain": [
       "58117"
      ]
     },
     "execution_count": 5,
     "metadata": {},
     "output_type": "execute_result"
    }
   ],
   "source": [
    "marquez = events.filter(col(\"Mentions\").rlike(\"marcmarquez93\"))\n",
    "marquez.count()"
   ]
  },
  {
   "cell_type": "code",
   "execution_count": 6,
   "metadata": {
    "collapsed": false
   },
   "outputs": [
    {
     "data": {
      "text/plain": [
       "12342"
      ]
     },
     "execution_count": 6,
     "metadata": {},
     "output_type": "execute_result"
    }
   ],
   "source": [
    "pedrosa = events.filter(col(\"Mentions\").rlike(\"26_danipedrosa\"))\n",
    "pedrosa.count()"
   ]
  },
  {
   "cell_type": "code",
   "execution_count": 7,
   "metadata": {
    "collapsed": false
   },
   "outputs": [
    {
     "data": {
      "text/plain": [
       "61121"
      ]
     },
     "execution_count": 7,
     "metadata": {},
     "output_type": "execute_result"
    }
   ],
   "source": [
    "rossi = events.filter(col(\"Mentions\").rlike(\"valeyellow46\"))\n",
    "rossi.count()"
   ]
  },
  {
   "cell_type": "markdown",
   "metadata": {},
   "source": [
    "## B) Contabilizar los 5 países que más tweets han publicado (considerando los tweets que contengan dicha información)."
   ]
  },
  {
   "cell_type": "code",
   "execution_count": 8,
   "metadata": {
    "collapsed": false
   },
   "outputs": [
    {
     "name": "stdout",
     "output_type": "stream",
     "text": [
      "+-------+------+\n",
      "|Country|tweets|\n",
      "+-------+------+\n",
      "|     es|172577|\n",
      "|     us| 12722|\n",
      "|     gb| 12588|\n",
      "|     id|  8725|\n",
      "|     it|  1843|\n",
      "+-------+------+\n",
      "\n"
     ]
    }
   ],
   "source": [
    "(events.filter(events.Country != \"not public\")\n",
    " .groupBy(\"Country\")\n",
    " .agg(count(\"Id\").alias(\"tweets\"))\n",
    " .orderBy(\"tweets\", ascending=False)\n",
    " .limit(5).show())"
   ]
  },
  {
   "cell_type": "markdown",
   "metadata": {},
   "source": [
    "## C) Contabilizar los 3 hashtags más utilizados (que aparezcan el mayor número de veces) en el cuerpo de los tweets (campo \"body\")."
   ]
  },
  {
   "cell_type": "code",
   "execution_count": 9,
   "metadata": {
    "collapsed": false
   },
   "outputs": [
    {
     "data": {
      "text/plain": [
       "[('#motogp', 51961), ('#qatar', 9977), ('#moto3', 5797)]"
      ]
     },
     "execution_count": 9,
     "metadata": {},
     "output_type": "execute_result"
    }
   ],
   "source": [
    "(events.filter(events.Body != None)\n",
    "     .select(\"Body\")\n",
    "     .rdd.flatMap(lambda x: x.Body.split(\" \"))\n",
    "     .filter(lambda x: x.startswith('#'))\n",
    "     .map(lambda x: (x,1))\n",
    "     .reduceByKey(lambda a,b: a+b)\n",
    "     .takeOrdered(3, key = lambda x: -x[1]))   "
   ]
  },
  {
   "cell_type": "code",
   "execution_count": 10,
   "metadata": {
    "collapsed": true
   },
   "outputs": [],
   "source": [
    "sc.stop()"
   ]
  },
  {
   "cell_type": "code",
   "execution_count": null,
   "metadata": {
    "collapsed": true
   },
   "outputs": [],
   "source": []
  }
 ],
 "metadata": {
  "anaconda-cloud": {},
  "kernelspec": {
   "display_name": "Python [conda root]",
   "language": "python",
   "name": "conda-root-py"
  },
  "language_info": {
   "codemirror_mode": {
    "name": "ipython",
    "version": 3
   },
   "file_extension": ".py",
   "mimetype": "text/x-python",
   "name": "python",
   "nbconvert_exporter": "python",
   "pygments_lexer": "ipython3",
   "version": "3.5.2"
  }
 },
 "nbformat": 4,
 "nbformat_minor": 1
}
