{
 "cells": [
  {
   "cell_type": "markdown",
   "metadata": {},
   "source": [
    "# Practica Spark Streaming + Kafka"
   ]
  },
  {
   "cell_type": "markdown",
   "metadata": {},
   "source": [
    "### Pasos previos"
   ]
  },
  {
   "cell_type": "markdown",
   "metadata": {},
   "source": [
    "En primer lugar arrancamos Zookeeper\n",
    "\n",
    "    bin/zookeeper-server-start.sh config/zookeeper.properties\n",
    "y Kafka\n",
    "\n",
    "    bin/kafka-server-start.sh config/server.properties\n",
    "Creamos el topic *QATAR_GP_2014* con la siguiente orden:\n",
    "\n",
    "    bin/kafka-topics.sh --create --zookeeper localhost:2181 --replication-factor 1 --partitions 1 --topic QATAR_GP_2014\n",
    "Ponemos en marcha el productor de Kafka\n",
    "\n",
    "    python kafka_producer.py 0.1 0.3 QATAR_GP_2014 ./data/DATASETMotoGP-Qatar.csv\n"
   ]
  },
  {
   "cell_type": "code",
   "execution_count": 1,
   "metadata": {
    "collapsed": false
   },
   "outputs": [],
   "source": [
    "from pyspark.streaming import StreamingContext\n",
    "from pyspark.streaming.kafka import KafkaUtils"
   ]
  },
  {
   "cell_type": "code",
   "execution_count": 17,
   "metadata": {
    "collapsed": false
   },
   "outputs": [],
   "source": [
    "sc = spark.sparkContext\n",
    "ssc = StreamingContext(sc, 5)"
   ]
  },
  {
   "cell_type": "code",
   "execution_count": 18,
   "metadata": {
    "collapsed": false
   },
   "outputs": [],
   "source": [
    "kafkaParams = {\"metadata.broker.list\": \"localhost:9092\"}\n",
    "directKafkaStream = KafkaUtils.createDirectStream(ssc, [\"QATAR_GP_2014\"], kafkaParams)"
   ]
  },
  {
   "cell_type": "markdown",
   "metadata": {},
   "source": [
    "### A) Calcular el número total de menciones recibidas por cada cuenta de usuario durante el intervalo de 5 segundos."
   ]
  },
  {
   "cell_type": "code",
   "execution_count": 19,
   "metadata": {
    "collapsed": false
   },
   "outputs": [],
   "source": [
    "lines = directKafkaStream.map(lambda x: x[1])\n",
    "\n",
    "counts = lines.map(lambda line: line.split(\",\")) \\\n",
    "              .map(lambda line: line[3]) \\\n",
    "              .flatMap(lambda line: line.split(\",\")) \\\n",
    "              .filter(lambda line: line != '') \\\n",
    "              .map(lambda line: (line,1)) \\\n",
    "              .reduceByKey(lambda a, b: a+b)\n",
    "\n",
    "counts.pprint()"
   ]
  },
  {
   "cell_type": "markdown",
   "metadata": {},
   "source": [
    "### B) Calcular la frecuencia total acumulada de apariciones de cada hashtag en el campo body, actualizando un ranking con los 5 hashtags con mayor frecuencia de aparición."
   ]
  },
  {
   "cell_type": "code",
   "execution_count": 112,
   "metadata": {
    "collapsed": false
   },
   "outputs": [],
   "source": [
    "def update_func(new_val, last_sum):\n",
    "    return sum(new_val) + (last_sum or 0)\n",
    "ssc.checkpoint(\"checkpoint\")  # checkpoint directory, failure recovery\n",
    "\n",
    "lines = directKafkaStream.map(lambda x: x[1])\n",
    "counts = lines.map(lambda line: line.split(\",\")) \\\n",
    "              .map(lambda line: line[6]) \\\n",
    "              .flatMap(lambda line: line.split(\" \")) \\\n",
    "              .filter(lambda x: x.startswith('#')) \\\n",
    "              .map(lambda line: (line, 1)) \\\n",
    "              .reduceByKey(lambda a, b: a+b) \\\n",
    "              .updateStateByKey(update_func) \\\n",
    "              .transform(lambda rdd: rdd.sortBy(lambda x: -x[1]))\n",
    "                \n",
    "counts.pprint(5)"
   ]
  },
  {
   "cell_type": "markdown",
   "metadata": {},
   "source": [
    "### C) Calcular en una ventana temporal 20 segundos con offset de 10 segundos la frecuencia de aparición de cada uno de los 3 posibles tipos de tweets (TW-RT-MT)."
   ]
  },
  {
   "cell_type": "code",
   "execution_count": 14,
   "metadata": {
    "collapsed": false
   },
   "outputs": [],
   "source": [
    "ssc.checkpoint(\"checkpoint\")  # checkpoint directory, failure recovery\n",
    "\n",
    "lines = directKafkaStream.map(lambda x: x[1])\n",
    "counts = lines.map(lambda line: line.split(\",\")) \\\n",
    "              .filter(lambda line: line[9] == \"MT\" or line[9] ==\"RT\" or line[9] ==\"TW\") \\\n",
    "              .map(lambda line: (line[9], 1)) \\\n",
    "              .reduceByKeyAndWindow(lambda x, y: x+y, lambda x, y: x-y, 20, 10)\n",
    "\n",
    "counts.pprint()"
   ]
  },
  {
   "cell_type": "markdown",
   "metadata": {},
   "source": [
    "### Start/stop Spark Streaming context"
   ]
  },
  {
   "cell_type": "code",
   "execution_count": 20,
   "metadata": {
    "collapsed": false
   },
   "outputs": [
    {
     "name": "stdout",
     "output_type": "stream",
     "text": [
      "-------------------------------------------\n",
      "Time: 2017-06-14 13:39:30\n",
      "-------------------------------------------\n",
      "\n",
      "-------------------------------------------\n",
      "Time: 2017-06-14 13:39:35\n",
      "-------------------------------------------\n",
      "\n"
     ]
    }
   ],
   "source": [
    "ssc.start()"
   ]
  },
  {
   "cell_type": "code",
   "execution_count": 16,
   "metadata": {
    "collapsed": false
   },
   "outputs": [],
   "source": [
    "ssc.stop(False)"
   ]
  },
  {
   "cell_type": "code",
   "execution_count": null,
   "metadata": {
    "collapsed": true
   },
   "outputs": [],
   "source": []
  }
 ],
 "metadata": {
  "anaconda-cloud": {},
  "kernelspec": {
   "display_name": "Python [conda root]",
   "language": "python",
   "name": "conda-root-py"
  },
  "language_info": {
   "codemirror_mode": {
    "name": "ipython",
    "version": 3
   },
   "file_extension": ".py",
   "mimetype": "text/x-python",
   "name": "python",
   "nbconvert_exporter": "python",
   "pygments_lexer": "ipython3",
   "version": "3.5.2"
  }
 },
 "nbformat": 4,
 "nbformat_minor": 1
}
