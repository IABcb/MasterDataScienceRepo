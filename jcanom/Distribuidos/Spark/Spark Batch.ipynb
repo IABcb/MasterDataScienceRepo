{
 "cells": [
  {
   "cell_type": "markdown",
   "metadata": {},
   "source": [
    "# Batch"
   ]
  },
  {
   "cell_type": "code",
   "execution_count": 1,
   "metadata": {
    "collapsed": false,
    "deletable": true,
    "editable": true
   },
   "outputs": [
    {
     "ename": "ImportError",
     "evalue": "No module named 'pyspark'",
     "output_type": "error",
     "traceback": [
      "\u001b[0;31m---------------------------------------------------------------------------\u001b[0m",
      "\u001b[0;31mImportError\u001b[0m                               Traceback (most recent call last)",
      "\u001b[0;32m<ipython-input-1-422943b60484>\u001b[0m in \u001b[0;36m<module>\u001b[0;34m()\u001b[0m\n\u001b[1;32m      1\u001b[0m \u001b[0;31m#import findspark\u001b[0m\u001b[0;34m\u001b[0m\u001b[0;34m\u001b[0m\u001b[0m\n\u001b[1;32m      2\u001b[0m \u001b[0;31m#findspark.init(\"/opt/spark-2.0.2-bin-hadoop2.7\")\u001b[0m\u001b[0;34m\u001b[0m\u001b[0;34m\u001b[0m\u001b[0m\n\u001b[0;32m----> 3\u001b[0;31m \u001b[0;32mfrom\u001b[0m \u001b[0mpyspark\u001b[0m\u001b[0;34m.\u001b[0m\u001b[0msql\u001b[0m \u001b[0;32mimport\u001b[0m \u001b[0mSparkSession\u001b[0m\u001b[0;34m\u001b[0m\u001b[0m\n\u001b[0m\u001b[1;32m      4\u001b[0m \u001b[0;32mfrom\u001b[0m \u001b[0mpyspark\u001b[0m\u001b[0;34m.\u001b[0m\u001b[0msql\u001b[0m\u001b[0;34m.\u001b[0m\u001b[0mtypes\u001b[0m \u001b[0;32mimport\u001b[0m \u001b[0;34m*\u001b[0m\u001b[0;34m\u001b[0m\u001b[0m\n\u001b[1;32m      5\u001b[0m \u001b[0;32mfrom\u001b[0m \u001b[0mpyspark\u001b[0m\u001b[0;34m.\u001b[0m\u001b[0msql\u001b[0m\u001b[0;34m.\u001b[0m\u001b[0mfunctions\u001b[0m \u001b[0;32mimport\u001b[0m \u001b[0msplit\u001b[0m\u001b[0;34m,\u001b[0m \u001b[0mexplode\u001b[0m\u001b[0;34m\u001b[0m\u001b[0m\n",
      "\u001b[0;31mImportError\u001b[0m: No module named 'pyspark'"
     ]
    }
   ],
   "source": [
    "#import findspark\n",
    "#findspark.init(\"/opt/spark-2.0.2-bin-hadoop2.7\")\n",
    "from pyspark.sql import SparkSession\n",
    "from pyspark.sql.types import *\n",
    "from pyspark.sql.functions import split, explode\n",
    "\n",
    "import pyspark\n",
    "\n",
    "import numpy\n",
    "\n",
    "spark = (SparkSession.builder\n",
    "    .master(\"local[*]\")\n",
    "    .config(\"spark.driver.cores\", 1)\n",
    "    .appName(\"understanding_sparksession\")\n",
    "    .getOrCreate() )\n",
    "sc = spark.sparkContext\n",
    "print(spark)\n",
    "print(sc)"
   ]
  },
  {
   "cell_type": "markdown",
   "metadata": {},
   "source": [
    "Carga del esquema, los datos y eliminamos NAs"
   ]
  },
  {
   "cell_type": "code",
   "execution_count": null,
   "metadata": {
    "collapsed": false,
    "deletable": true,
    "editable": true
   },
   "outputs": [],
   "source": [
    "schema = StructType([\n",
    "                        StructField(\"ID\",StringType(),True),\n",
    "                        StructField(\"PARENT-SYS-ID\",StringType(),True),\n",
    "                        StructField(\"Source\",StringType(),True),\n",
    "                        StructField(\"Mentions\",StringType(),True),\n",
    "                        StructField(\"Target\",StringType(),True),\n",
    "                        StructField(\"NAME Source\",StringType(),True),\n",
    "                        StructField(\"BODY\",StringType(),True),\n",
    "                        StructField(\"PUBDATE\",TimestampType(),True),\n",
    "                        StructField(\"URLs comma separated\",StringType(),True),\n",
    "                        StructField(\"Type TW-RT-MT\",StringType(),True),\n",
    "                        StructField(\"LINK\",StringType(),True),\n",
    "                        StructField(\"n1 Link\",ByteType(),True),\n",
    "                        StructField(\"n1 Picture\",ByteType(),True),\n",
    "                        StructField(\"PERSONAL-WEBSITE\",StringType(),True),\n",
    "                        StructField(\"COUNTRY\",StringType(),True),\n",
    "                        StructField(\"ALL-NICK-ACTIVITY-EVER\",LongType(),True),\n",
    "                        StructField(\"NICK-FOLLOWERS\",LongType(),True),\n",
    "                        StructField(\"FRIENDS-FOLLOWING-AUDIENCE\",LongType(),True),\n",
    "                        StructField(\"LOCATION\",StringType(),True)\n",
    "                   ])\n",
    "\n",
    "#df = spark.read.csv(\"DATASET_Twitter-23-26-Mar-2014-MotoGP-Qatar.csv\", \n",
    "#                    header=True, schema = schema, sep=\",\", timeStampFormat=\"dd/MM/yyyy HH:mm\")"
   ]
  },
  {
   "cell_type": "code",
   "execution_count": null,
   "metadata": {
    "collapsed": false,
    "deletable": true,
    "editable": true
   },
   "outputs": [],
   "source": [
    "df = (spark.read.format(\"csv\").load(\"DATASET Twitter-23-26-Mar-2014-MotoGP-Qatar.csv\", \n",
    "                    header=True, schema = schema, sep=\"\\t\", timeStampFormat=\"dd/MM/yyyy HH:mm\"))"
   ]
  },
  {
   "cell_type": "markdown",
   "metadata": {
    "deletable": true,
    "editable": true
   },
   "source": [
    "### 1. Contabilizar el número total de menciones a los pilotos..."
   ]
  },
  {
   "cell_type": "markdown",
   "metadata": {
    "deletable": true,
    "editable": true
   },
   "source": [
    "#### Marc Márquez"
   ]
  },
  {
   "cell_type": "code",
   "execution_count": null,
   "metadata": {
    "collapsed": false,
    "deletable": true,
    "editable": true
   },
   "outputs": [],
   "source": [
    "(df\n",
    " .filter(df.Mentions.rlike(\"marcmarquez93\"))\n",
    " .count()\n",
    ")"
   ]
  },
  {
   "cell_type": "markdown",
   "metadata": {
    "deletable": true,
    "editable": true
   },
   "source": [
    "#### Valentino Rossi"
   ]
  },
  {
   "cell_type": "code",
   "execution_count": null,
   "metadata": {
    "collapsed": false,
    "deletable": true,
    "editable": true
   },
   "outputs": [],
   "source": [
    "(df\n",
    " .filter(df.Mentions.rlike(\"valeyellow46\"))\n",
    " .count()\n",
    ")"
   ]
  },
  {
   "cell_type": "markdown",
   "metadata": {
    "deletable": true,
    "editable": true
   },
   "source": [
    "#### Dani Pedrosa"
   ]
  },
  {
   "cell_type": "code",
   "execution_count": null,
   "metadata": {
    "collapsed": false,
    "deletable": true,
    "editable": true
   },
   "outputs": [],
   "source": [
    "(df\n",
    " .filter(df.Mentions.rlike(\"26_danipedrosa\"))\n",
    " .count()\n",
    ")"
   ]
  },
  {
   "cell_type": "markdown",
   "metadata": {
    "deletable": true,
    "editable": true
   },
   "source": [
    "###  2. Contabilizar los 5 países que más tweets han publicado (considerando los tweets que contengan dicha información)."
   ]
  },
  {
   "cell_type": "code",
   "execution_count": null,
   "metadata": {
    "collapsed": false,
    "deletable": true,
    "editable": true
   },
   "outputs": [],
   "source": [
    "(df.filter(df.COUNTRY != \"not public\")\n",
    " .groupBy(\"COUNTRY\")\n",
    " .count()\n",
    " .orderBy('count', ascending = False)\n",
    " .limit(5)\n",
    " .show())"
   ]
  },
  {
   "cell_type": "markdown",
   "metadata": {
    "deletable": true,
    "editable": true
   },
   "source": [
    "### 3. Contabilizar los 3 hashtags más utilizados (que aparezcan el mayor número de veces) en el cuerpo de los tweets (campo \"body\")."
   ]
  },
  {
   "cell_type": "code",
   "execution_count": null,
   "metadata": {
    "collapsed": false,
    "editable": true
   },
   "outputs": [],
   "source": [
    "bodies = df.select(explode(split(\"BODY\", \"\\s+\")))\n",
    "\n",
    "(bodies\n",
    " .filter(bodies.col.startswith(\"#\"))\n",
    " .groupBy(\"col\")\n",
    " .count()\n",
    " .orderBy('count', ascending = False)\n",
    " .limit(3)\n",
    " .show()\n",
    ")"
   ]
  },
  {
   "cell_type": "code",
   "execution_count": null,
   "metadata": {
    "collapsed": true,
    "deletable": true,
    "editable": true
   },
   "outputs": [],
   "source": [
    "#sc.stop()"
   ]
  }
 ],
 "metadata": {
  "kernelspec": {
   "display_name": "Python 3",
   "language": "python",
   "name": "python3"
  },
  "language_info": {
   "codemirror_mode": {
    "name": "ipython",
    "version": 3
   },
   "file_extension": ".py",
   "mimetype": "text/x-python",
   "name": "python",
   "nbconvert_exporter": "python",
   "pygments_lexer": "ipython3",
   "version": "3.5.2"
  }
 },
 "nbformat": 4,
 "nbformat_minor": 2
}
