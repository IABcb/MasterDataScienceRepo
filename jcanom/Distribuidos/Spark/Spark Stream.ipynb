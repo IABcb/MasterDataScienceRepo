{
 "cells": [
  {
   "cell_type": "markdown",
   "metadata": {},
   "source": [
    "# Streaming"
   ]
  },
  {
   "cell_type": "code",
   "execution_count": null,
   "metadata": {
    "collapsed": true
   },
   "outputs": [],
   "source": [
    "# Importación de dependencias y funciones\n",
    "from __future__ import print_function\n",
    "from pyspark.streaming import StreamingContext\n",
    "from pyspark.streaming.kafka import KafkaUtils\n",
    "from operator import add\n",
    "from operator import sub\n",
    "\n",
    "# Crear el contexto de Spark Streaming\n",
    "ssc = StreamingContext(sc, 5)"
   ]
  },
  {
   "cell_type": "code",
   "execution_count": null,
   "metadata": {
    "collapsed": true
   },
   "outputs": [],
   "source": [
    "# Configura el endpoint para localizar el broker de Kafka\n",
    "# kafkaBrokerIPPort = \"172.20.1.21:9092\"\n",
    "kafkaBrokerIPPort = \"127.0.0.1:9092\"\n",
    "\n",
    "# Productor simple (Singleton!)\n",
    "# from kafka import KafkaProducer\n",
    "import kafka\n",
    "class KafkaProducerWrapper(object):\n",
    "  producer = None\n",
    "  @staticmethod\n",
    "  def getProducer(brokerList):\n",
    "    if KafkaProducerWrapper.producer != None:\n",
    "      return KafkaProducerWrapper.producer\n",
    "    else:\n",
    "      KafkaProducerWrapper.producer = kafka.KafkaProducer(bootstrap_servers=brokerList, key_serializer=str.encode, value_serializer=str.encode)\n",
    "      return KafkaProducerWrapper.producer"
   ]
  },
  {
   "cell_type": "code",
   "execution_count": null,
   "metadata": {
    "collapsed": true
   },
   "outputs": [],
   "source": [
    "# Como los datos que vamos a usar no necesitan un tipado específico, dejamos que todos los campos sean tipo String\n",
    "\n",
    "def parseTweet(line):\n",
    "  s = line.split(\"\\t\")\n",
    "  try:\n",
    "        return [{\"ID\": s[0],\n",
    "                 \"PARENT-SYS-ID\": s[1], \n",
    "                 \"Source\": s[2], \n",
    "                 \"Mentions\": s[3],\n",
    "                 \"Target\": s[4],\n",
    "                 \"NAME Source\": s[5],\n",
    "                 \"BODY\": s[6],\n",
    "                 \"PUBDATE\": s[7],\n",
    "                 \"URLs comma separated\": s[8],\n",
    "                 \"Type TW-RT-MT\": s[9],\n",
    "                 \"LINK\": s[10],\n",
    "                 \"n1 Link\": s[11],\n",
    "                 \"n1 Picture\": s[12],\n",
    "                 \"PERSONAL-WEBSITE\": s[13],\n",
    "                 \"COUNTRY\": s[14],\n",
    "                 \"ALL-NICK-ACTIVITY-EVER\": s[15],\n",
    "                 \"NICK-FOLLOWERS\": s[16],\n",
    "                 \"FRIENDS-FOLLOWING-AUDIENCE\": s[17],\n",
    "                 \"LOCATION\": s[18]\n",
    "                }]\n",
    "  except Exception as err:\n",
    "      print(\"Wrong line format (%s): \" % line)\n",
    "      return []"
   ]
  },
  {
   "cell_type": "code",
   "execution_count": null,
   "metadata": {
    "collapsed": false
   },
   "outputs": [],
   "source": [
    "# Fichero de texto: Lectura de fuente de datos de fichero (no se usa en este ejemplo, en su lugar \n",
    "# enviamos los datos a Kafka para crear una simulación más realista)\n",
    "# stream = ssc.textFileStream(\"/tmp/data/orders.txt\")\n",
    "\n",
    "# Kafka: Lectura de datos\n",
    "kafkaParams = {\"metadata.broker.list\": kafkaBrokerIPPort}\n",
    "stream = KafkaUtils.createDirectStream(ssc, [\"test\"], kafkaParams)\n",
    "stream = stream.map(lambda t: str(t[1]))"
   ]
  },
  {
   "cell_type": "markdown",
   "metadata": {},
   "source": [
    "## Ejecutar un ejercicio cada vez"
   ]
  },
  {
   "cell_type": "markdown",
   "metadata": {},
   "source": [
    "### 1. Calcular el número total de menciones recibidas por cada cuenta de usuario durante el intervalo de 5 segundos."
   ]
  },
  {
   "cell_type": "code",
   "execution_count": null,
   "metadata": {
    "collapsed": false
   },
   "outputs": [],
   "source": [
    "tweets = stream.flatMap(parseTweet)\n",
    "\n",
    "# Cálculo de resumen de compra-venta\n",
    "numPerType = (tweets\n",
    "              .flatMap(lambda t: t['Mentions'].split(\",\"))\n",
    "              .map(lambda m: (m,1) if m!='' else (m, 0))\n",
    "              .reduceByKey(lambda x,y: x+y)\n",
    "             )\n",
    "                                     \n",
    "numPerType.pprint()\n",
    "\n",
    "sc.setCheckpointDir(\"data/checkpoint/\")"
   ]
  },
  {
   "cell_type": "markdown",
   "metadata": {},
   "source": [
    "### 2. Calcular la frecuencia total acumulada de apariciones de cada hashtag en el campo body, actualizando un ranking con los 5 hashtags con mayor frecuencia de aparición."
   ]
  },
  {
   "cell_type": "code",
   "execution_count": null,
   "metadata": {
    "collapsed": false
   },
   "outputs": [],
   "source": [
    "def updateFunction(newValues, runningCount):\n",
    "    if runningCount is None:\n",
    "        runningCount = 0\n",
    "    return sum(newValues, runningCount)\n",
    "\n",
    "tweets = stream.flatMap(parseTweet)\n",
    "\n",
    "numHash = (tweets\n",
    "           .flatMap(lambda t: t['BODY'].split(\" \"))\n",
    "           .map(lambda w: (w,1) if w.startswith('#') else ('',0))\n",
    "           .reduceByKey(lambda x,y: x+y)\n",
    "           .updateStateByKey(updateFunction)\n",
    "          )\n",
    "\n",
    "top5Hash = numHash.transform(lambda rdd: rdd.sortBy(lambda x: x[1], False)\n",
    "                             .map(lambda x: x[0])\n",
    "                             .zipWithIndex()\n",
    "                             .filter(lambda x: x[1] < 5)\n",
    "                            )\n",
    "\n",
    "top5Hash.pprint()\n",
    "\n",
    "sc.setCheckpointDir(\"data/checkpoint/\")"
   ]
  },
  {
   "cell_type": "markdown",
   "metadata": {},
   "source": [
    "### 3. Calcular en una ventana temporal 20 segundos con offset de 10 segundos la frecuencia de aparición de cada uno de los 3 posibles tipos de tweets (TW-RT-MT)."
   ]
  },
  {
   "cell_type": "code",
   "execution_count": null,
   "metadata": {
    "collapsed": false
   },
   "outputs": [],
   "source": [
    "tweets = stream.flatMap(parseTweet)\n",
    "\n",
    "# Cálculo de resumen de compra-venta\n",
    "numPerType = tweets.map(lambda t: (t['Type TW-RT-MT'], 1)).reduceByKeyAndWindow(add, sub, 10, 20)\n",
    "numPerType.pprint()\n",
    "\n",
    "sc.setCheckpointDir(\"data/checkpoint/\")"
   ]
  },
  {
   "cell_type": "markdown",
   "metadata": {},
   "source": [
    "## Start"
   ]
  },
  {
   "cell_type": "code",
   "execution_count": null,
   "metadata": {
    "collapsed": false
   },
   "outputs": [],
   "source": [
    "ssc.start()"
   ]
  },
  {
   "cell_type": "code",
   "execution_count": null,
   "metadata": {
    "collapsed": false
   },
   "outputs": [],
   "source": [
    "ssc.stop(False)"
   ]
  },
  {
   "cell_type": "markdown",
   "metadata": {},
   "source": [
    "Es necesario reiniciar el kernel tras la ejecución de cada ejercicio"
   ]
  },
  {
   "cell_type": "code",
   "execution_count": null,
   "metadata": {
    "collapsed": true
   },
   "outputs": [],
   "source": []
  }
 ],
 "metadata": {
  "kernelspec": {
   "display_name": "Python 3",
   "language": "python",
   "name": "python3"
  },
  "language_info": {
   "codemirror_mode": {
    "name": "ipython",
    "version": 3
   },
   "file_extension": ".py",
   "mimetype": "text/x-python",
   "name": "python",
   "nbconvert_exporter": "python",
   "pygments_lexer": "ipython3",
   "version": "3.5.2"
  }
 },
 "nbformat": 4,
 "nbformat_minor": 2
}
